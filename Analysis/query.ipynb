{
 "cells": [
  {
   "metadata": {
    "ExecuteTime": {
     "end_time": "2024-07-08T06:23:13.833042Z",
     "start_time": "2024-07-08T06:23:13.821618Z"
    }
   },
   "cell_type": "code",
   "source": [
    "%load_ext autoreload\n",
    "%autoreload 2"
   ],
   "outputs": [],
   "execution_count": 1
  },
  {
   "cell_type": "markdown",
   "metadata": {},
   "source": [
    "# Query Mongodb"
   ]
  },
  {
   "cell_type": "code",
   "metadata": {
    "ExecuteTime": {
     "end_time": "2024-07-08T06:23:15.171683Z",
     "start_time": "2024-07-08T06:23:14.747232Z"
    }
   },
   "source": [
    "import utils\n",
    "from pymongo import MongoClient\n",
    "configs = utils.get_configs(\"../configs.yaml\")"
   ],
   "outputs": [],
   "execution_count": 2
  },
  {
   "cell_type": "markdown",
   "metadata": {},
   "source": [
    "Connect to MongoDB and get the collection"
   ]
  },
  {
   "cell_type": "code",
   "metadata": {
    "ExecuteTime": {
     "end_time": "2024-07-08T06:23:16.211616Z",
     "start_time": "2024-07-08T06:23:16.185737Z"
    }
   },
   "source": [
    "client = MongoClient(configs['MONGODB_HOST'],configs['MONGODB_PORT'])\n",
    "db = client[configs['MONGODB_DB_NAME']]\n",
    "collection = db.get_collection(configs['MONGODB_COLLECTION_NAME'])"
   ],
   "outputs": [],
   "execution_count": 3
  },
  {
   "cell_type": "markdown",
   "metadata": {},
   "source": [
    "Media recensioni selezionando per ciascun anno i top 10:"
   ]
  },
  {
   "cell_type": "code",
   "metadata": {
    "ExecuteTime": {
     "end_time": "2024-07-08T06:23:17.848040Z",
     "start_time": "2024-07-08T06:23:17.805429Z"
    }
   },
   "source": [
    "pipeline = [\n",
    "    {\n",
    "        '$match': {\n",
    "            'box_office.season': { '$nin': [2000, 2001, 2002, 2003] }  # Esclude i film degli anni 2000, 2001, 2002 e 2003\n",
    "        }\n",
    "    },\n",
    "    {\n",
    "        '$sort': { 'ranking': 1 }  # Ordina i film per ranking in ordine crescente\n",
    "    },\n",
    "    {\n",
    "        '$limit': 400  # Prendo solo i primi 200 film quindi i top 10 per ogni anno dal 2004 in poi\n",
    "    },\n",
    "    {\n",
    "        '$group': {\n",
    "            '_id': None,\n",
    "            'avg_mymovies': { '$avg': '$review.MyMovies.rating' },\n",
    "            'avg_comingsoon': { '$avg': '$review.ComingSoon.rating' },\n",
    "            'avg_imdb': { '$avg': '$review.IMDb.rating' }\n",
    "        }\n",
    "    },\n",
    "    {\n",
    "        '$project': {\n",
    "            '_id': 0,\n",
    "            'avg_mymovies': { '$round': ['$avg_mymovies', 2] },\n",
    "            'avg_comingsoon': { '$round': ['$avg_comingsoon', 2] },\n",
    "            'avg_imdb': { '$round': ['$avg_imdb', 2] }\n",
    "        }\n",
    "    }   \n",
    "]\n",
    "\n",
    "result = collection.aggregate(pipeline)\n",
    "\n",
    "for doc in result:\n",
    "    print(f\"MyMovies: {doc['avg_mymovies']}, ComingSoon: {doc['avg_comingsoon']}, IMDb: {doc['avg_imdb']}\")"
   ],
   "outputs": [
    {
     "name": "stdout",
     "output_type": "stream",
     "text": [
      "MyMovies: 2.74, ComingSoon: 3.85, IMDb: 6.43\n"
     ]
    }
   ],
   "execution_count": 4
  },
  {
   "cell_type": "markdown",
   "metadata": {},
   "source": [
    "Media recensioni selezionando per ciascun anno i bottom 10:"
   ]
  },
  {
   "cell_type": "code",
   "metadata": {
    "ExecuteTime": {
     "end_time": "2024-07-08T06:23:21.004695Z",
     "start_time": "2024-07-08T06:23:20.979125Z"
    }
   },
   "source": [
    "pipeline1 = [\n",
    "    {\n",
    "        '$match': {\n",
    "            'box_office.season': { '$nin': [2000, 2001, 2002, 2003] }  # Esclude i film degli anni 2000, 2001, 2002 e 2003\n",
    "        }\n",
    "    },\n",
    "    {\n",
    "        '$sort': { 'ranking': -1 }  # Ordina i film per ranking in ordine crescente\n",
    "    },\n",
    "    {\n",
    "        '$limit': 400  # Prendo solo i primi 200 film quindi i top 10 per ogni anno dal 2004 in poi\n",
    "    },\n",
    "    {\n",
    "        '$group': {\n",
    "            '_id': None,\n",
    "            'avg_mymovies': { '$avg': '$review.MyMovies.rating' },\n",
    "            'avg_comingsoon': { '$avg': '$review.ComingSoon.rating' },\n",
    "            'avg_imdb': { '$avg': '$review.IMDb.rating' }\n",
    "        }\n",
    "    },\n",
    "    {\n",
    "        '$project': {\n",
    "            '_id': 0,\n",
    "            'avg_mymovies': { '$round': ['$avg_mymovies', 2] },\n",
    "            'avg_comingsoon': { '$round': ['$avg_comingsoon', 2] },\n",
    "            'avg_imdb': { '$round': ['$avg_imdb', 2] }\n",
    "        }\n",
    "    }   \n",
    "]\n",
    "\n",
    "result1 = collection.aggregate(pipeline1)\n",
    "\n",
    "for doc1 in result1:\n",
    "    print(f\"MyMovies: {doc1['avg_mymovies']}, ComingSoon: {doc1['avg_comingsoon']}, IMDb: {doc1['avg_imdb']}\")"
   ],
   "outputs": [
    {
     "name": "stdout",
     "output_type": "stream",
     "text": [
      "MyMovies: 2.74, ComingSoon: 3.85, IMDb: 6.43\n"
     ]
    }
   ],
   "execution_count": 5
  },
  {
   "cell_type": "markdown",
   "metadata": {},
   "source": [
    "Media recensioni totale:"
   ]
  },
  {
   "cell_type": "code",
   "metadata": {
    "ExecuteTime": {
     "end_time": "2024-07-08T06:23:23.202165Z",
     "start_time": "2024-07-08T06:23:23.175783Z"
    }
   },
   "source": [
    "pipeline2 = [\n",
    "    {\n",
    "        '$group': {\n",
    "            '_id': None,\n",
    "            'avg_mymovies': { '$avg': '$review.MyMovies.rating' },\n",
    "            'avg_comingsoon': { '$avg': '$review.ComingSoon.rating' },\n",
    "            'avg_imdb': { '$avg': '$review.IMDb.rating' }\n",
    "        }\n",
    "    },\n",
    "    {\n",
    "        '$project': {\n",
    "            '_id': 0,\n",
    "            'avg_mymovies': { '$round': ['$avg_mymovies', 2] },\n",
    "            'avg_comingsoon': { '$round': ['$avg_comingsoon', 2] },\n",
    "            'avg_imdb': { '$round': ['$avg_imdb', 2] }\n",
    "        }\n",
    "    }   \n",
    "]\n",
    "\n",
    "result2 = collection.aggregate(pipeline2)\n",
    "\n",
    "for doc2 in result2:\n",
    "    print(f\"MyMovies: {doc2['avg_mymovies']}, ComingSoon: {doc2['avg_comingsoon']}, IMDb: {doc2['avg_imdb']}\")"
   ],
   "outputs": [
    {
     "name": "stdout",
     "output_type": "stream",
     "text": [
      "MyMovies: 2.83, ComingSoon: 3.84, IMDb: 6.52\n"
     ]
    }
   ],
   "execution_count": 6
  },
  {
   "cell_type": "markdown",
   "metadata": {},
   "source": [
    "Seleziono i 6 generi più frequenti e calcolo il loro incasso medio."
   ]
  },
  {
   "cell_type": "code",
   "metadata": {
    "ExecuteTime": {
     "end_time": "2024-07-08T06:23:25.180972Z",
     "start_time": "2024-07-08T06:23:25.136131Z"
    }
   },
   "source": [
    "pipeline3 = [\n",
    "    {\n",
    "        '$unwind': '$genere'  # Espande l'array dei generi per ciascun film\n",
    "    },\n",
    "    {\n",
    "        '$group': {\n",
    "            '_id': '$genere',\n",
    "            'average_box_office': { '$avg': '$box_office.revenue' },\n",
    "            'count': { '$sum': 1 }\n",
    "        }\n",
    "    },\n",
    "    {\n",
    "        '$match': {\n",
    "            'count': { '$gt': 100 }  # Filtra i generi con frequenza maggiore di 100\n",
    "        }\n",
    "    },\n",
    "    {\n",
    "        '$project': {\n",
    "            '_id': 0,\n",
    "            'genere': '$_id',\n",
    "            'count': 1,\n",
    "            'average_box_office': { '$round': ['$average_box_office', 1] }\n",
    "        }\n",
    "    },\n",
    "    {\n",
    "        '$sort': { 'average_box_office': -1 }  # Ordina per incasso medio in ordine decrescente\n",
    "    }\n",
    "]\n",
    "result3 = collection.aggregate(pipeline3)\n",
    "\n",
    "# Stampa i risultati\n",
    "\n",
    "for doc in result3:\n",
    "    print(f\"Genere: {doc['genere']}, Incasso medio: {doc['average_box_office']}, Frequenza: {doc['count']}\")"
   ],
   "outputs": [
    {
     "name": "stdout",
     "output_type": "stream",
     "text": [
      "Genere: Animazione, Incasso medio: 130138989.4, Frequenza: 214\n",
      "Genere: Azione, Incasso medio: 127643513.0, Frequenza: 374\n",
      "Genere: Commedia, Incasso medio: 59821164.8, Frequenza: 419\n",
      "Genere: Horror, Incasso medio: 53307530.4, Frequenza: 172\n",
      "Genere: Thriller, Incasso medio: 50782694.9, Frequenza: 119\n",
      "Genere: Drammatico, Incasso medio: 43768377.5, Frequenza: 308\n"
     ]
    }
   ],
   "execution_count": 7
  },
  {
   "cell_type": "markdown",
   "metadata": {},
   "source": [
    "Seleziono i primi 10 registi più frequenti e calcolo l'incasso medio"
   ]
  },
  {
   "cell_type": "code",
   "metadata": {
    "ExecuteTime": {
     "end_time": "2024-07-08T06:23:29.049794Z",
     "start_time": "2024-07-08T06:23:29.010228Z"
    }
   },
   "source": [
    "pipeline4 = [\n",
    "    {\n",
    "        '$group': {\n",
    "            '_id': '$register',  # Raggruppa per regista\n",
    "            'film_count': { '$sum': 1 },  # Conta il numero di film per ciascun regista\n",
    "            'average_box_office': { '$avg': '$box_office.revenue' }  # Calcola l'incasso medio\n",
    "        }\n",
    "    },\n",
    "    {\n",
    "        '$sort': { 'film_count': -1 }  # Ordina per numero di film in ordine decrescente\n",
    "    },\n",
    "    {\n",
    "        '$limit': 10  # Limita ai 10 registi più frequenti\n",
    "    },\n",
    "    {\n",
    "        '$project': {\n",
    "            '_id': 0,\n",
    "            'register': '$_id',\n",
    "            'film_count': 1,\n",
    "            'average_box_office': { '$round': ['$average_box_office', 1] }  # Arrotonda l'incasso medio a una cifra decimale\n",
    "        }\n",
    "    }\n",
    "]\n",
    "\n",
    "result4 = collection.aggregate(pipeline4)\n",
    "\n",
    "# Stampa i risultati\n",
    "for doc in result4:\n",
    "    print(f\"Regista: {doc['register']}, Numero di film: {doc['film_count']}, Incasso medio: {doc['average_box_office']}\")"
   ],
   "outputs": [
    {
     "name": "stdout",
     "output_type": "stream",
     "text": [
      "Regista: Steven Spielberg, Numero di film: 16, Incasso medio: 104800670.5\n",
      "Regista: Clint Eastwood, Numero di film: 14, Incasso medio: 78903756.4\n",
      "Regista: Ridley Scott, Numero di film: 12, Incasso medio: 80358971.2\n",
      "Regista: M. Night Shyamalan, Numero di film: 10, Incasso medio: 80591666.1\n",
      "Regista: Shawn Levy, Numero di film: 10, Incasso medio: 116387148.7\n",
      "Regista: Steven Soderbergh, Numero di film: 10, Incasso medio: 57732247.3\n",
      "Regista: Michael Bay, Numero di film: 9, Incasso medio: 178607831.7\n",
      "Regista: Peter Jackson, Numero di film: 9, Incasso medio: 235784008.0\n",
      "Regista: Tim Burton, Numero di film: 9, Incasso medio: 121847492.6\n",
      "Regista: Francis Lawrence, Numero di film: 8, Incasso medio: 205674189.2\n"
     ]
    }
   ],
   "execution_count": 8
  },
  {
   "cell_type": "markdown",
   "metadata": {},
   "source": [
    "Seleziono i 10 film con botteghino più alto e la relativa stagione d'incasso"
   ]
  },
  {
   "cell_type": "code",
   "metadata": {
    "ExecuteTime": {
     "end_time": "2024-07-08T06:23:31.560536Z",
     "start_time": "2024-07-08T06:23:31.537392Z"
    }
   },
   "source": [
    "pipeline5 = [\n",
    "    {\n",
    "        '$sort': { 'box_office.revenue': -1 }  # Ordina i film per incasso in ordine decrescente\n",
    "    },\n",
    "    {\n",
    "        '$limit': 10  # Limita ai primi 10 film\n",
    "    },\n",
    "    {\n",
    "        '$project': {\n",
    "            '_id': 0,\n",
    "            'title': 1,\n",
    "            'box_office.revenue': 1,\n",
    "            'box_office.season': 1  # Include la stagione di produzione\n",
    "        }\n",
    "    }\n",
    "]\n",
    "\n",
    "result5 = collection.aggregate(pipeline5)\n",
    "# Stampa i risultati\n",
    "for doc in result5:\n",
    "    print(f\"Titolo: {doc['title']}, Incasso: {doc['box_office']['revenue']}, Stagione: {doc['box_office']['season']}\")"
   ],
   "outputs": [
    {
     "name": "stdout",
     "output_type": "stream",
     "text": [
      "Titolo: Star Wars: Episodio VII - Il risveglio della forza, Incasso: 935518389, Stagione: 2015\n",
      "Titolo: Avengers: Endgame, Incasso: 858365685, Stagione: 2019\n",
      "Titolo: Spider-Man - No Way Home, Incasso: 804395488, Stagione: 2021\n",
      "Titolo: Avatar, Incasso: 749446000, Stagione: 2022\n",
      "Titolo: Top Gun - Maverick, Incasso: 718519000, Stagione: 2022\n",
      "Titolo: Black Panther, Incasso: 700004026, Stagione: 2018\n",
      "Titolo: Avatar - La via dell'acqua, Incasso: 684060555, Stagione: 2022\n",
      "Titolo: Avengers: Infinity War, Incasso: 678807703, Stagione: 2018\n",
      "Titolo: Titanic, Incasso: 659328801, Stagione: 2023\n",
      "Titolo: Jurassic World, Incasso: 652175130, Stagione: 2015\n"
     ]
    }
   ],
   "execution_count": 9
  },
  {
   "cell_type": "code",
   "metadata": {
    "ExecuteTime": {
     "end_time": "2024-07-08T06:23:33.869126Z",
     "start_time": "2024-07-08T06:23:33.850222Z"
    }
   },
   "source": [
    "client.close()"
   ],
   "outputs": [],
   "execution_count": 10
  }
 ],
 "metadata": {
  "kernelspec": {
   "display_name": "Python 3",
   "language": "python",
   "name": "python3"
  },
  "language_info": {
   "codemirror_mode": {
    "name": "ipython",
    "version": 3
   },
   "file_extension": ".py",
   "mimetype": "text/x-python",
   "name": "python",
   "nbconvert_exporter": "python",
   "pygments_lexer": "ipython3",
   "version": "3.10.11"
  }
 },
 "nbformat": 4,
 "nbformat_minor": 2
}
