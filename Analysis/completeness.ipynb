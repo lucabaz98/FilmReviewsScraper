{
 "cells": [
  {
   "metadata": {
    "ExecuteTime": {
     "end_time": "2024-07-08T06:15:58.097203Z",
     "start_time": "2024-07-08T06:15:58.084584Z"
    }
   },
   "cell_type": "code",
   "source": [
    "%load_ext autoreload\n",
    "%autoreload 2"
   ],
   "id": "e0dfea4a287f5e46",
   "outputs": [
    {
     "name": "stdout",
     "output_type": "stream",
     "text": [
      "The autoreload extension is already loaded. To reload it, use:\n",
      "  %reload_ext autoreload\n"
     ]
    }
   ],
   "execution_count": 34
  },
  {
   "metadata": {},
   "cell_type": "markdown",
   "source": "# Completeness",
   "id": "45fa5957b245a087"
  },
  {
   "metadata": {
    "ExecuteTime": {
     "end_time": "2024-07-08T06:16:04.328882Z",
     "start_time": "2024-07-08T06:16:04.309338Z"
    }
   },
   "cell_type": "code",
   "source": [
    "import utils\n",
    "from pymongo import MongoClient\n",
    "configs = utils.get_configs(\"../configs.yaml\")"
   ],
   "id": "cede0c35e835d330",
   "outputs": [],
   "execution_count": 35
  },
  {
   "metadata": {},
   "cell_type": "markdown",
   "source": "Connect to MongoDB and get the collection",
   "id": "f6cc3c4661d32d79"
  },
  {
   "metadata": {
    "ExecuteTime": {
     "end_time": "2024-07-08T06:16:05.991790Z",
     "start_time": "2024-07-08T06:16:05.972196Z"
    }
   },
   "cell_type": "code",
   "source": [
    "client = MongoClient(configs['MONGODB_HOST'],configs['MONGODB_PORT'])\n",
    "db = client[configs['MONGODB_DB_NAME']]\n",
    "collection = db.get_collection(configs['MONGODB_COLLECTION_NAME'])"
   ],
   "id": "c9a4815f9ecd3a86",
   "outputs": [],
   "execution_count": 36
  },
  {
   "metadata": {},
   "cell_type": "markdown",
   "source": "Count total documents in the collection",
   "id": "f056b87cb6d008b3"
  },
  {
   "metadata": {
    "ExecuteTime": {
     "end_time": "2024-07-08T06:16:09.663848Z",
     "start_time": "2024-07-08T06:16:09.642883Z"
    }
   },
   "cell_type": "code",
   "source": [
    "total_documents = collection.count_documents({})\n",
    "print(f\"Total documents in collection: {total_documents}\")"
   ],
   "id": "9f09fcc1feeb8fce",
   "outputs": [
    {
     "name": "stdout",
     "output_type": "stream",
     "text": [
      "Total documents in collection: 2010\n"
     ]
    }
   ],
   "execution_count": 37
  },
  {
   "metadata": {},
   "cell_type": "markdown",
   "source": "Count documents where all review sources (ComingSoon, IMDb, and MyMovies) are filled.",
   "id": "f08dd350718218e4"
  },
  {
   "metadata": {
    "ExecuteTime": {
     "end_time": "2024-07-08T06:16:16.133734Z",
     "start_time": "2024-07-08T06:16:16.111727Z"
    }
   },
   "cell_type": "code",
   "source": [
    "all_reviews_count = collection.count_documents({\"$and\": [{\"review.ComingSoon\": {\"$exists\": True},}, \n",
    "                                                         {\"review.IMDb\": {\"$exists\": True},}, \n",
    "                                                         {\"review.MyMovies\": {\"$exists\": True},}]})\n",
    "print(f\"{all_reviews_count} documents have all three reviews, equal to {round((all_reviews_count / total_documents) * 100, 2)} % of total documents.\")"
   ],
   "id": "6dd20d87a96be116",
   "outputs": [
    {
     "name": "stdout",
     "output_type": "stream",
     "text": [
      "1740 documents have all three reviews, equal to 86.57 % of total documents.\n"
     ]
    }
   ],
   "execution_count": 38
  },
  {
   "metadata": {},
   "cell_type": "markdown",
   "source": "Count complete documents",
   "id": "d16af3808a86ac4d"
  },
  {
   "metadata": {
    "ExecuteTime": {
     "end_time": "2024-07-08T06:16:18.887224Z",
     "start_time": "2024-07-08T06:16:18.862651Z"
    }
   },
   "cell_type": "code",
   "source": [
    "query = {\n",
    "        \"title\": {\"$exists\": True},\n",
    "        #\"original_title\": {\"$exists\": True},\n",
    "        \"register\": {\"$exists\": True},\n",
    "        \"genere\": {\"$exists\": True},\n",
    "        \"region\": {\"$exists\": True},\n",
    "        \"year\": {\"$exists\": True},\n",
    "        \"box_office\": {\"$exists\": True},\n",
    "        \"review\": {\"$exists\": True}\n",
    "    }\n",
    "print(f\"{collection.count_documents(query)} documents are complete, equal to {round((collection.count_documents(query) / total_documents) * 100, 2)} % of total documents.\")"
   ],
   "id": "dc45431cc4133f7e",
   "outputs": [
    {
     "name": "stdout",
     "output_type": "stream",
     "text": [
      "2005 documents are complete, equal to 99.75 % of total documents.\n"
     ]
    }
   ],
   "execution_count": 39
  },
  {
   "metadata": {},
   "cell_type": "markdown",
   "source": "Count documents with ComingSoon, IMDb or MyMovies reviews",
   "id": "4a8f9eb9ed9755e"
  },
  {
   "metadata": {
    "ExecuteTime": {
     "end_time": "2024-07-08T06:16:21.308428Z",
     "start_time": "2024-07-08T06:16:21.283044Z"
    }
   },
   "cell_type": "code",
   "source": [
    "comingsoon_count = collection.count_documents({\"review.ComingSoon\": {\"$exists\": True},})\n",
    "imdb_count = collection.count_documents({\"review.IMDb\": {\"$exists\": True},})\n",
    "mymovies_count = collection.count_documents({\"review.MyMovies\": {\"$exists\": True},})\n",
    "print(f\"ComingSoon review is present in {comingsoon_count} documents, equal to {round((comingsoon_count / total_documents) * 100, 2)} %\")\n",
    "print(f\"IMDb review is present in {imdb_count} documents, equal to {round((imdb_count / total_documents) * 100, 2)} %\")\n",
    "print(f\"MyMovies review is present in {mymovies_count} documents, equal to {round((mymovies_count / total_documents) * 100, 2)} %\")"
   ],
   "id": "8218c3bf4cedf171",
   "outputs": [
    {
     "name": "stdout",
     "output_type": "stream",
     "text": [
      "ComingSoon review is present in 2010 documents, equal to 100.0 %\n",
      "IMDb review is present in 1740 documents, equal to 86.57 %\n",
      "MyMovies review is present in 2010 documents, equal to 100.0 %\n"
     ]
    }
   ],
   "execution_count": 40
  },
  {
   "metadata": {},
   "cell_type": "markdown",
   "source": "",
   "id": "ba02f587150e0747"
  },
  {
   "metadata": {},
   "cell_type": "markdown",
   "source": "Completeness for each attribute",
   "id": "6ff2015076ae8f1"
  },
  {
   "metadata": {
    "ExecuteTime": {
     "end_time": "2024-07-08T06:16:23.530839Z",
     "start_time": "2024-07-08T06:16:23.495603Z"
    }
   },
   "cell_type": "code",
   "source": [
    "attributes = [\n",
    "    \"title\",\n",
    "    \"original_title\",\n",
    "    \"register\",\n",
    "    \"genere\",\n",
    "    \"region\",\n",
    "    \"year\",\n",
    "    \"box_office\",\n",
    "    \"review\"\n",
    "]\n",
    "\n",
    "completeness = {}\n",
    "for attribute in attributes:\n",
    "    query = {attribute: {\"$exists\": True}}\n",
    "    count = collection.count_documents(query)\n",
    "    print(f\"<{attribute}> is present in {count} documents, equal to {round((count / total_documents) * 100, 2)} % of total documents.\")"
   ],
   "id": "7e9b34443ec7fb54",
   "outputs": [
    {
     "name": "stdout",
     "output_type": "stream",
     "text": [
      "<title> is present in 2010 documents, equal to 100.0 % of total documents.\n",
      "<original_title> is present in 1494 documents, equal to 74.33 % of total documents.\n",
      "<register> is present in 2009 documents, equal to 99.95 % of total documents.\n",
      "<genere> is present in 2010 documents, equal to 100.0 % of total documents.\n",
      "<region> is present in 2005 documents, equal to 99.75 % of total documents.\n",
      "<year> is present in 2010 documents, equal to 100.0 % of total documents.\n",
      "<box_office> is present in 2010 documents, equal to 100.0 % of total documents.\n",
      "<review> is present in 2010 documents, equal to 100.0 % of total documents.\n"
     ]
    }
   ],
   "execution_count": 41
  },
  {
   "metadata": {
    "ExecuteTime": {
     "end_time": "2024-07-08T06:23:36.460671Z",
     "start_time": "2024-07-08T06:23:36.431042Z"
    }
   },
   "cell_type": "code",
   "source": "client.close()",
   "id": "71bd84f526e04c25",
   "outputs": [],
   "execution_count": 42
  }
 ],
 "metadata": {
  "kernelspec": {
   "display_name": "Python 3",
   "language": "python",
   "name": "python3"
  },
  "language_info": {
   "codemirror_mode": {
    "name": "ipython",
    "version": 2
   },
   "file_extension": ".py",
   "mimetype": "text/x-python",
   "name": "python",
   "nbconvert_exporter": "python",
   "pygments_lexer": "ipython2",
   "version": "2.7.6"
  }
 },
 "nbformat": 4,
 "nbformat_minor": 5
}
